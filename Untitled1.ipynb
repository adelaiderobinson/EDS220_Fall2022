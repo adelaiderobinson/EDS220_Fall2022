{
 "cells": [
  {
   "cell_type": "code",
   "execution_count": null,
   "id": "6cf9d989-be22-4d0b-a433-99cdafcbe7fe",
   "metadata": {},
   "outputs": [],
   "source": []
  }
 ],
 "metadata": {
  "kernelspec": {
   "display_name": "cartopy_example",
   "language": "python",
   "name": "cartopy_example"
  },
  "language_info": {
   "codemirror_mode": {
    "name": "ipython",
    "version": 3
   },
   "file_extension": ".py",
   "mimetype": "text/x-python",
   "name": "python",
   "nbconvert_exporter": "python",
   "pygments_lexer": "ipython3",
   "version": "3.10.6"
  }
 },
 "nbformat": 4,
 "nbformat_minor": 5
}
