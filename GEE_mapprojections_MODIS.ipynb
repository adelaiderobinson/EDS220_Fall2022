{
 "cells": [
  {
   "cell_type": "markdown",
   "id": "9e2896b1-b08e-4eb9-a0f1-53fc618a6339",
   "metadata": {},
   "source": [
    "# EDS 220 Fall 2022\n",
    "# Mapping and map projections with Google Earth Engine\n",
    "\n",
    "Google Earth Engine is an extremely powerful tool for visualizing environmental data, making it an extremely popular choice in many contexts. However, the combination of Google Earth Engine with Cartopy is even more powerful, combining the on-the-fly ability of GEE to access and analyze data with Cartopy's strengths in map reprojection and generation of production-quality graphics.\n",
    "\n",
    "To facilitate the use of Cartopy, we'll use the `cartoee` package. Cartoee functions as a 'go-between' for Earth Engine and Cartopy, by requesting images from Earth Engine and passing them through to Cartopy. In that way, the data can be reprojected as desired using Cartopy without the user having to download all the data from Earth Engine. Because of the utility of this approach, cartoee has been incorporated into `geemap` and can be called from that package such that it can be referred to on its own.\n",
    "\n",
    "First, we import the relevant packages and initialize the Earth Engine environment:"
   ]
  },
  {
   "cell_type": "code",
   "execution_count": 3,
   "id": "39726a16-8e4a-46f5-a0e9-1390f9a0dfd1",
   "metadata": {},
   "outputs": [],
   "source": [
    "# Import packages\n",
    "import ee\n",
    "import geemap\n",
    "import pandas as pd\n",
    "import cartopy\n",
    "import cartopy.crs as ccrs\n",
    "from geemap import cartoee\n",
    "import matplotlib.pyplot as plt"
   ]
  },
  {
   "cell_type": "code",
   "execution_count": 4,
   "id": "b229f63b-2dbf-4281-a80a-5d3226cb9ea3",
   "metadata": {},
   "outputs": [],
   "source": [
    "# Authenticate and initialize GEE\n",
    "#ee.Authenticate()\n",
    "ee.Initialize()"
   ]
  },
  {
   "cell_type": "markdown",
   "id": "3f9879f1-1569-4221-a471-fa10563d9b98",
   "metadata": {},
   "source": [
    "Next, let's load some data. To get some variety from the Landsat examples we used in previous class sessions, let's pick a marine example!\n",
    "\n",
    "The following example uses the _ocean color_ data collected by NASA's MODIS satellite:\n",
    "https://developers.google.com/earth-engine/datasets/catalog/NASA_OCEANDATA_MODIS-Aqua_L3SMI#description\n",
    "\n",
    "This product is derived from reflectance at the ocean surface in wavelength bands strongly affected by chlorophyll absorption; in this way, we can get an indication of how much photosynthesis by _phytoplankton_ (algae) is happening in the surface ocean.\n",
    "\n",
    "Note that since ocean color is a derived product calculated from reflectance, it is considered a _Level 3_ data product (see description link above).\n",
    "\n",
    "Let's load the set of MODIS data into a Google Earth Engine `ImageCollection`:"
   ]
  },
  {
   "cell_type": "code",
   "execution_count": 5,
   "id": "27bdced5-18dd-48db-b4b8-89aa447f9185",
   "metadata": {},
   "outputs": [],
   "source": [
    "# Load the MODIS ocean color data\n",
    "gdat = ee.ImageCollection(\"NASA/OCEANDATA/MODIS-Aqua/L3SMI\")"
   ]
  },
  {
   "cell_type": "markdown",
   "id": "56581b28-38e4-4133-85ef-17b2c8b7db7b",
   "metadata": {},
   "source": [
    "The metadata for this image collection can be accessed through the Google Earth Engine web interface:\n",
    "https://developers.google.com/earth-engine/datasets/catalog/NASA_OCEANDATA_MODIS-Aqua_L3SMI#bands\n",
    "\n",
    "or we can get a sense for things by looking at a single image and using the `getInfo` function. To do the latter, we first need to select a single image (-not- an ImageCollection) to let us display that information. "
   ]
  },
  {
   "cell_type": "code",
   "execution_count": 6,
   "id": "a8303920-0937-48d9-b8c2-686699f2bbd9",
   "metadata": {},
   "outputs": [
    {
     "data": {
      "text/plain": [
       "{'type': 'Image',\n",
       " 'bands': [{'id': 'chlor_a',\n",
       "   'data_type': {'type': 'PixelType', 'precision': 'float'},\n",
       "   'dimensions': [8640, 4320],\n",
       "   'crs': 'EPSG:4326',\n",
       "   'crs_transform': [0.041666668, 0, -180, 0, -0.041666668, 90]},\n",
       "  {'id': 'nflh',\n",
       "   'data_type': {'type': 'PixelType', 'precision': 'float'},\n",
       "   'dimensions': [8640, 4320],\n",
       "   'crs': 'EPSG:4326',\n",
       "   'crs_transform': [0.041666668, 0, -180, 0, -0.041666668, 90]},\n",
       "  {'id': 'poc',\n",
       "   'data_type': {'type': 'PixelType', 'precision': 'float'},\n",
       "   'dimensions': [8640, 4320],\n",
       "   'crs': 'EPSG:4326',\n",
       "   'crs_transform': [0.041666668, 0, -180, 0, -0.041666668, 90]},\n",
       "  {'id': 'Rrs_412',\n",
       "   'data_type': {'type': 'PixelType', 'precision': 'float'},\n",
       "   'dimensions': [8640, 4320],\n",
       "   'crs': 'EPSG:4326',\n",
       "   'crs_transform': [0.041666668, 0, -180, 0, -0.041666668, 90]},\n",
       "  {'id': 'Rrs_443',\n",
       "   'data_type': {'type': 'PixelType', 'precision': 'float'},\n",
       "   'dimensions': [8640, 4320],\n",
       "   'crs': 'EPSG:4326',\n",
       "   'crs_transform': [0.041666668, 0, -180, 0, -0.041666668, 90]},\n",
       "  {'id': 'Rrs_469',\n",
       "   'data_type': {'type': 'PixelType', 'precision': 'float'},\n",
       "   'dimensions': [8640, 4320],\n",
       "   'crs': 'EPSG:4326',\n",
       "   'crs_transform': [0.041666668, 0, -180, 0, -0.041666668, 90]},\n",
       "  {'id': 'Rrs_488',\n",
       "   'data_type': {'type': 'PixelType', 'precision': 'float'},\n",
       "   'dimensions': [8640, 4320],\n",
       "   'crs': 'EPSG:4326',\n",
       "   'crs_transform': [0.041666668, 0, -180, 0, -0.041666668, 90]},\n",
       "  {'id': 'Rrs_531',\n",
       "   'data_type': {'type': 'PixelType', 'precision': 'float'},\n",
       "   'dimensions': [8640, 4320],\n",
       "   'crs': 'EPSG:4326',\n",
       "   'crs_transform': [0.041666668, 0, -180, 0, -0.041666668, 90]},\n",
       "  {'id': 'Rrs_547',\n",
       "   'data_type': {'type': 'PixelType', 'precision': 'float'},\n",
       "   'dimensions': [8640, 4320],\n",
       "   'crs': 'EPSG:4326',\n",
       "   'crs_transform': [0.041666668, 0, -180, 0, -0.041666668, 90]},\n",
       "  {'id': 'Rrs_555',\n",
       "   'data_type': {'type': 'PixelType', 'precision': 'float'},\n",
       "   'dimensions': [8640, 4320],\n",
       "   'crs': 'EPSG:4326',\n",
       "   'crs_transform': [0.041666668, 0, -180, 0, -0.041666668, 90]},\n",
       "  {'id': 'Rrs_645',\n",
       "   'data_type': {'type': 'PixelType', 'precision': 'float'},\n",
       "   'dimensions': [8640, 4320],\n",
       "   'crs': 'EPSG:4326',\n",
       "   'crs_transform': [0.041666668, 0, -180, 0, -0.041666668, 90]},\n",
       "  {'id': 'Rrs_667',\n",
       "   'data_type': {'type': 'PixelType', 'precision': 'float'},\n",
       "   'dimensions': [8640, 4320],\n",
       "   'crs': 'EPSG:4326',\n",
       "   'crs_transform': [0.041666668, 0, -180, 0, -0.041666668, 90]},\n",
       "  {'id': 'Rrs_678',\n",
       "   'data_type': {'type': 'PixelType', 'precision': 'float'},\n",
       "   'dimensions': [8640, 4320],\n",
       "   'crs': 'EPSG:4326',\n",
       "   'crs_transform': [0.041666668, 0, -180, 0, -0.041666668, 90]},\n",
       "  {'id': 'sst',\n",
       "   'data_type': {'type': 'PixelType', 'precision': 'float'},\n",
       "   'dimensions': [8640, 4320],\n",
       "   'crs': 'EPSG:4326',\n",
       "   'crs_transform': [0.041666667844178655,\n",
       "    0,\n",
       "    -180.0000050868518,\n",
       "    0,\n",
       "    -0.041666669021963275,\n",
       "    89.99999745804614]}],\n",
       " 'id': 'NASA/OCEANDATA/MODIS-Aqua/L3SMI/A2002184',\n",
       " 'version': 1622493265655226,\n",
       " 'properties': {'Rrs_488_software_name': 'l3mapgen',\n",
       "  'Rrs_667_offset': 0.050000001,\n",
       "  'nflh_lastModified': '2015-06-23T06:35:35.000Z',\n",
       "  'Rrs_547_lastModified': '2016-07-26T12:57:11.000Z',\n",
       "  'Rrs_469_lastModified': '2016-07-26T12:54:34.000Z',\n",
       "  'Rrs_488_lastModified': '2016-07-26T12:55:26.000Z',\n",
       "  'chlor_a_software_version': '5.03',\n",
       "  'nflh_scale': 1,\n",
       "  'poc_lastModified': '2015-06-23T04:59:04.000Z',\n",
       "  'Rrs_412_software_name': 'l3mapgen',\n",
       "  'Rrs_667_software_version': '1.0.1-r13111',\n",
       "  'Rrs_531_offset': 0.050000001,\n",
       "  'Rrs_469_scale': 2e-06,\n",
       "  'Rrs_645_scale': 2e-06,\n",
       "  'Rrs_547_software_version': '1.0.1-r13111',\n",
       "  'system:footprint': {'type': 'LinearRing',\n",
       "   'coordinates': [[-180, -90],\n",
       "    [180, -90],\n",
       "    [180, 90],\n",
       "    [-180, 90],\n",
       "    [-180, -90]]},\n",
       "  'Rrs_547_scale': 2e-06,\n",
       "  'poc_software_name': 'smigen',\n",
       "  'Rrs_555_software_version': '1.0.1-r13111',\n",
       "  'Rrs_412_scale': 2e-06,\n",
       "  'Rrs_555_offset': 0.050000001,\n",
       "  'Rrs_531_lastModified': '2016-07-26T12:56:19.000Z',\n",
       "  'Rrs_678_software_name': 'l3mapgen',\n",
       "  'Rrs_443_scale': 2e-06,\n",
       "  'Rrs_555_lastModified': '2016-07-26T12:58:04.000Z',\n",
       "  'Rrs_443_software_version': '1.0.1-r13111',\n",
       "  'poc_software_version': '5.03',\n",
       "  'system:time_end': 1025746505000,\n",
       "  'Rrs_443_offset': 0.050000001,\n",
       "  'Rrs_469_software_version': '1.0.1-r13111',\n",
       "  'chlor_a_software_name': 'smigen',\n",
       "  'Rrs_678_scale': 2e-06,\n",
       "  'chlor_a_offset': 0,\n",
       "  'Rrs_667_lastModified': '2016-07-26T12:59:49.000Z',\n",
       "  'Rrs_667_software_name': 'l3mapgen',\n",
       "  'sst_lastModified': '',\n",
       "  'system:time_start': 1025739605000,\n",
       "  'Rrs_469_offset': 0.050000001,\n",
       "  'poc_scale': 1,\n",
       "  'Rrs_645_software_version': '1.0.1-r13111',\n",
       "  'sst_software_version': '',\n",
       "  'Rrs_443_lastModified': '2016-07-26T12:53:41.000Z',\n",
       "  'Rrs_667_scale': 2e-06,\n",
       "  'Rrs_547_software_name': 'l3mapgen',\n",
       "  'Rrs_555_software_name': 'l3mapgen',\n",
       "  'Rrs_412_lastModified': '2016-07-26T12:52:47.000Z',\n",
       "  'Rrs_488_software_version': '1.0.1-r13111',\n",
       "  'nflh_software_name': 'smigen',\n",
       "  'Rrs_645_software_name': 'l3mapgen',\n",
       "  'Rrs_469_software_name': 'l3mapgen',\n",
       "  'Rrs_678_lastModified': '2016-07-26T13:00:41.000Z',\n",
       "  'Rrs_678_offset': 0.050000001,\n",
       "  'Rrs_547_offset': 0.050000001,\n",
       "  'nflh_software_version': '5.03',\n",
       "  'Rrs_555_scale': 2e-06,\n",
       "  'Rrs_412_offset': 0.050000001,\n",
       "  'Rrs_412_software_version': '1.0.1-r13111',\n",
       "  'Rrs_645_lastModified': '2016-07-26T12:58:57.000Z',\n",
       "  'Rrs_488_scale': 2e-06,\n",
       "  'poc_offset': 0,\n",
       "  'Rrs_531_software_version': '1.0.1-r13111',\n",
       "  'Rrs_678_software_version': '1.0.1-r13111',\n",
       "  'Rrs_443_software_name': 'l3mapgen',\n",
       "  'sst_software_name': '',\n",
       "  'Rrs_488_offset': 0.050000001,\n",
       "  'Rrs_531_software_name': 'l3mapgen',\n",
       "  'nflh_offset': 0,\n",
       "  'chlor_a_scale': 1,\n",
       "  'Rrs_531_scale': 2e-06,\n",
       "  'chlor_a_lastModified': '2015-06-23T02:14:34.000Z',\n",
       "  'system:asset_size': 11459705,\n",
       "  'Rrs_645_offset': 0.050000001,\n",
       "  'system:index': 'A2002184'}}"
      ]
     },
     "execution_count": 6,
     "metadata": {},
     "output_type": "execute_result"
    }
   ],
   "source": [
    "# Extract the first image in the MODIS image collection\n",
    "firstimg=gdat.first()\n",
    "\n",
    "# Display metadata for first MODIS image\n",
    "firstimg.getInfo()"
   ]
  },
  {
   "cell_type": "markdown",
   "id": "69825f74-1bd0-4303-8f66-fb298561a074",
   "metadata": {},
   "source": [
    "As we did in the `Landsat_colormaps_GEE` notebook, it's desirable to reduce the size of the dataset in order to create something that can actually be plotted as a single map.\n",
    "\n",
    "To accomplish this, let's do the following:\n",
    "- get rid of cloudy days by filtering on the `CLOUD_COVER` attribute of the image collection;\n",
    "- select a date range and take the time average over that range"
   ]
  },
  {
   "cell_type": "code",
   "execution_count": 7,
   "id": "0ae5b27d-5180-4a48-8553-c8dc3de7896a",
   "metadata": {},
   "outputs": [],
   "source": [
    "# Use filter to extract all \"non-cloudy\" images: ones with less than 20% cloud cover\n",
    "dat_nocld = gdat"
   ]
  },
  {
   "cell_type": "markdown",
   "id": "5eca3502-72bd-4762-8edf-ac6834fa2e62",
   "metadata": {},
   "source": [
    "Now we need to figure out a relevant region to display. Here I've chosen one that gives us a sense of variability in chlorophyll through the __California Current__, which is our local current system off the Santa Barbara coast and a good example of a _western boundary current_. The California Current is an extremely _productive_ marine ecosystem because of the amount of _upwelling_ of cold subsurface ocean waters, making it rich in nutrients and therefore home to lots of different marine ecosystems.\n",
    "\n",
    "To filter the image collection, we set up a central point using `ee.Geometry.Point`, and then define a `buffer` region around that point. Here I've chosen 1000km but you can change this if you like!"
   ]
  },
  {
   "cell_type": "code",
   "execution_count": 8,
   "id": "684bc995-5999-460a-bcb0-44aca5b9801f",
   "metadata": {},
   "outputs": [],
   "source": [
    "# Define the location of interest as a point near Los Angeles, California\n",
    "u_lon = -118.2\n",
    "u_lat = 34.05\n",
    "u_poi = ee.Geometry.Point(u_lon, u_lat)\n",
    "\n",
    "# Define the region: everything within 1000km of LA\n",
    "roi = u_poi.buffer(1e6)"
   ]
  },
  {
   "cell_type": "markdown",
   "id": "76585972-2cb6-4e99-b6ce-fa9bc8b24b35",
   "metadata": {},
   "source": [
    "Once the region is defined, we can then use it to extract the portions of the image collection intersecting with that region, similar to what we did with Landsat for Santa Barbara. This can be accomplished using `filterBounds`, and providing the region object we created above as an argument:"
   ]
  },
  {
   "cell_type": "code",
   "execution_count": 16,
   "id": "2a3107ba-5644-4098-afa8-53505dc9af88",
   "metadata": {},
   "outputs": [],
   "source": [
    "# Filter to region of interest\n",
    "dat_filt = dat_nocld.filterBounds(roi)\n",
    "\n",
    "# Command to extract all data over appropriate time, perform temporal averaging\n",
    "dat_2018=gdat.filter(ee.Filter.date('2018-6-1', '2018-12-31')).mean();"
   ]
  },
  {
   "cell_type": "markdown",
   "id": "c001bb47-5205-431c-a99c-e04e67320bb5",
   "metadata": {},
   "source": [
    "Now we have the data we need to plot! But we still have to supply some _visualization parameters_ in order to make everything display properly. Below I create an example of the data structure that Google Earth Engine needs to interpret these visualizations. \n",
    "\n",
    "Important parameters:\n",
    "- the band name (\"chlor_a\") - note that there is only ONE band here, instead of the three we were using to create RGB images with Landsat information;\n",
    "- minimum and maximum values to consider when assigning colors to the color bar later"
   ]
  },
  {
   "cell_type": "code",
   "execution_count": 17,
   "id": "fe4b94d2-64d4-4910-918b-bbe37a5ccf7c",
   "metadata": {},
   "outputs": [],
   "source": [
    "# Visualization parameters\n",
    "visParams = {'bands': ['chlor_a'],\n",
    "             'min': 0,\n",
    "             'max': 5,\n",
    "            }"
   ]
  },
  {
   "cell_type": "markdown",
   "id": "c8d7cf6f-e595-451f-9837-1a9e7e20b374",
   "metadata": {},
   "source": [
    "When the plot is generated, we can also use all of the functionality of Cartopy to set the plot parameters. Below, I've drawn in the coast outlines using `ax.coastlines()`, and used the `ax.gridlines` module to draw semitransparent gray dashed lat/lon grid lines:"
   ]
  },
  {
   "cell_type": "code",
   "execution_count": null,
   "id": "1d7ad2c9-9088-4d8b-b97e-5e1fe282ba1b",
   "metadata": {},
   "outputs": [],
   "source": [
    "fig = plt.figure(figsize=(10, 15))\n",
    "\n",
    "# create a new Plate-Carree projection \n",
    "projection = ccrs.PlateCarree()\n",
    "\n",
    "# plot the result with cartoee \n",
    "ax = cartoee.get_map(dat_2018, vis_params=visParams, proj=projection, cmap='coolwarm')\n",
    "\n",
    "# Define the lon/lat extent of the plot\n",
    "ax.set_extent([-130,-115,24,50])   \n",
    "\n",
    "# Draw in coastlines\n",
    "ax.coastlines()\n",
    "\n",
    "# Draw grid lines\n",
    "gl=ax.gridlines(crs=ccrs.PlateCarree(), draw_labels=True,\n",
    "                  linewidth=2, alpha=0.5, linestyle='--')\n",
    "\n",
    "# Set parameters for grid lines\n",
    "gl.xlabels_top = False\n",
    "gl.ylabels_right = False\n",
    "gl.xlabel_style = {'size': 15}\n",
    "gl.ylabel_style = {'size': 15}\n",
    "\n",
    "# Set plot title\n",
    "ax.set_title(label='MODIS: Plate-Carree', fontsize=20)\n",
    "\n",
    "# Add color bar\n",
    "cartoee.add_colorbar(ax,visParams,loc=\"right\",cmap='coolwarm')\n",
    "\n",
    "# Display plot\n",
    "plt.show()"
   ]
  },
  {
   "cell_type": "markdown",
   "id": "a8dd0e72-cd8e-408b-8ff1-da99e6c56527",
   "metadata": {},
   "source": [
    "Now let's compare this with the visualization we'd have gotten if we used the interactive \"base map\" provided by Google Earth Engine. \n",
    "\n",
    "To do this, we need to specify a new set of visualization parameters, since we need another parameter called the color _palette_. The two codes in the palette correspond to the colors of the minimum and maximum values, and GEE will then assign colors ranging between the two specified values to all the data in between."
   ]
  },
  {
   "cell_type": "code",
   "execution_count": 54,
   "id": "77676105-cb9c-4a49-9cb6-668dcfbaffd9",
   "metadata": {},
   "outputs": [],
   "source": [
    "# Visualization parameters\n",
    "visParams = {'bands': ['chlor_a'],\n",
    "             'min': 0,\n",
    "             'max': 5,\n",
    "             'palette': ['0000FF', 'FF0000']\n",
    "            }"
   ]
  },
  {
   "cell_type": "markdown",
   "id": "60911600-2767-4d3e-973f-ce4190641e0c",
   "metadata": {},
   "source": [
    "Now we can draw the basemap and add the MODIS layer to it!"
   ]
  },
  {
   "cell_type": "code",
   "execution_count": 55,
   "id": "0a8c9cd4-b722-46a4-9a7e-3b2ce193ad8a",
   "metadata": {},
   "outputs": [
    {
     "data": {
      "application/vnd.jupyter.widget-view+json": {
       "model_id": "18762417c64d42bc9827a56956d86e51",
       "version_major": 2,
       "version_minor": 0
      },
      "text/plain": [
       "Map(center=[34.42, -124], controls=(WidgetControl(options=['position', 'transparent_bg'], widget=HBox(children…"
      ]
     },
     "metadata": {},
     "output_type": "display_data"
    }
   ],
   "source": [
    "# Define parameters for GEE base map\n",
    "Map = geemap.Map(center=[34.42, -124], zoom=6)\n",
    "\n",
    "# Draw map\n",
    "Map"
   ]
  },
  {
   "cell_type": "code",
   "execution_count": 56,
   "id": "9b15e3dd-afdf-4087-a4e5-9a77ba356ece",
   "metadata": {},
   "outputs": [],
   "source": [
    "# Add layer to the basemap\n",
    "Map.addLayer(dat_2018, visParams)"
   ]
  },
  {
   "cell_type": "code",
   "execution_count": null,
   "id": "8d9224a6-6ca4-4d47-a4fe-27622eeec355",
   "metadata": {},
   "outputs": [],
   "source": []
  }
 ],
 "metadata": {
  "kernelspec": {
   "display_name": "Python 3 (ipykernel)",
   "language": "python",
   "name": "python3"
  },
  "language_info": {
   "codemirror_mode": {
    "name": "ipython",
    "version": 3
   },
   "file_extension": ".py",
   "mimetype": "text/x-python",
   "name": "python",
   "nbconvert_exporter": "python",
   "pygments_lexer": "ipython3",
   "version": "3.10.5"
  }
 },
 "nbformat": 4,
 "nbformat_minor": 5
}
